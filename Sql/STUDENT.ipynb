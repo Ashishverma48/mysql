{
 "cells": [
  {
   "cell_type": "code",
   "execution_count": 1,
   "id": "cac74f23",
   "metadata": {},
   "outputs": [
    {
     "ename": "DatabaseError",
     "evalue": "1007 (HY000): Can't create database 'student'; database exists",
     "output_type": "error",
     "traceback": [
      "\u001b[1;31m---------------------------------------------------------------------------\u001b[0m",
      "\u001b[1;31mMySQLInterfaceError\u001b[0m                       Traceback (most recent call last)",
      "\u001b[1;32m~\\anaconda3\\lib\\site-packages\\mysql\\connector\\connection_cext.py\u001b[0m in \u001b[0;36mcmd_query\u001b[1;34m(self, query, raw, buffered, raw_as_string)\u001b[0m\n\u001b[0;32m    564\u001b[0m                 \u001b[0mquery\u001b[0m \u001b[1;33m=\u001b[0m \u001b[0mquery\u001b[0m\u001b[1;33m.\u001b[0m\u001b[0mencode\u001b[0m\u001b[1;33m(\u001b[0m\u001b[1;34m\"utf-8\"\u001b[0m\u001b[1;33m)\u001b[0m\u001b[1;33m\u001b[0m\u001b[1;33m\u001b[0m\u001b[0m\n\u001b[1;32m--> 565\u001b[1;33m             self._cmysql.query(\n\u001b[0m\u001b[0;32m    566\u001b[0m                 \u001b[0mquery\u001b[0m\u001b[1;33m,\u001b[0m\u001b[1;33m\u001b[0m\u001b[1;33m\u001b[0m\u001b[0m\n",
      "\u001b[1;31mMySQLInterfaceError\u001b[0m: Can't create database 'student'; database exists",
      "\nThe above exception was the direct cause of the following exception:\n",
      "\u001b[1;31mDatabaseError\u001b[0m                             Traceback (most recent call last)",
      "\u001b[1;32m~\\AppData\\Local\\Temp\\ipykernel_11356\\3748285022.py\u001b[0m in \u001b[0;36m<module>\u001b[1;34m\u001b[0m\n\u001b[0;32m      5\u001b[0m                password = \"Ashish12@\")\n\u001b[0;32m      6\u001b[0m \u001b[0mcursor\u001b[0m \u001b[1;33m=\u001b[0m \u001b[0memp\u001b[0m\u001b[1;33m.\u001b[0m\u001b[0mcursor\u001b[0m\u001b[1;33m(\u001b[0m\u001b[1;33m)\u001b[0m\u001b[1;33m\u001b[0m\u001b[1;33m\u001b[0m\u001b[0m\n\u001b[1;32m----> 7\u001b[1;33m \u001b[0mcursor\u001b[0m\u001b[1;33m.\u001b[0m\u001b[0mexecute\u001b[0m\u001b[1;33m(\u001b[0m\u001b[1;34m'CREATE DATABASE student'\u001b[0m\u001b[1;33m)\u001b[0m\u001b[1;33m\u001b[0m\u001b[1;33m\u001b[0m\u001b[0m\n\u001b[0m",
      "\u001b[1;32m~\\anaconda3\\lib\\site-packages\\mysql\\connector\\cursor_cext.py\u001b[0m in \u001b[0;36mexecute\u001b[1;34m(self, operation, params, multi)\u001b[0m\n\u001b[0;32m    277\u001b[0m \u001b[1;33m\u001b[0m\u001b[0m\n\u001b[0;32m    278\u001b[0m         \u001b[1;32mtry\u001b[0m\u001b[1;33m:\u001b[0m\u001b[1;33m\u001b[0m\u001b[1;33m\u001b[0m\u001b[0m\n\u001b[1;32m--> 279\u001b[1;33m             result = self._cnx.cmd_query(\n\u001b[0m\u001b[0;32m    280\u001b[0m                 \u001b[0mstmt\u001b[0m\u001b[1;33m,\u001b[0m\u001b[1;33m\u001b[0m\u001b[1;33m\u001b[0m\u001b[0m\n\u001b[0;32m    281\u001b[0m                 \u001b[0mraw\u001b[0m\u001b[1;33m=\u001b[0m\u001b[0mself\u001b[0m\u001b[1;33m.\u001b[0m\u001b[0m_raw\u001b[0m\u001b[1;33m,\u001b[0m\u001b[1;33m\u001b[0m\u001b[1;33m\u001b[0m\u001b[0m\n",
      "\u001b[1;32m~\\anaconda3\\lib\\site-packages\\mysql\\connector\\connection_cext.py\u001b[0m in \u001b[0;36mcmd_query\u001b[1;34m(self, query, raw, buffered, raw_as_string)\u001b[0m\n\u001b[0;32m    571\u001b[0m             )\n\u001b[0;32m    572\u001b[0m         \u001b[1;32mexcept\u001b[0m \u001b[0mMySQLInterfaceError\u001b[0m \u001b[1;32mas\u001b[0m \u001b[0merr\u001b[0m\u001b[1;33m:\u001b[0m\u001b[1;33m\u001b[0m\u001b[1;33m\u001b[0m\u001b[0m\n\u001b[1;32m--> 573\u001b[1;33m             raise get_mysql_exception(\n\u001b[0m\u001b[0;32m    574\u001b[0m                 \u001b[0merr\u001b[0m\u001b[1;33m.\u001b[0m\u001b[0merrno\u001b[0m\u001b[1;33m,\u001b[0m \u001b[0mmsg\u001b[0m\u001b[1;33m=\u001b[0m\u001b[0merr\u001b[0m\u001b[1;33m.\u001b[0m\u001b[0mmsg\u001b[0m\u001b[1;33m,\u001b[0m \u001b[0msqlstate\u001b[0m\u001b[1;33m=\u001b[0m\u001b[0merr\u001b[0m\u001b[1;33m.\u001b[0m\u001b[0msqlstate\u001b[0m\u001b[1;33m\u001b[0m\u001b[1;33m\u001b[0m\u001b[0m\n\u001b[0;32m    575\u001b[0m             ) from err\n",
      "\u001b[1;31mDatabaseError\u001b[0m: 1007 (HY000): Can't create database 'student'; database exists"
     ]
    }
   ],
   "source": [
    "#Create Databse\n",
    "import mysql.connector as a\n",
    "emp = a.connect(host=\"localhost\",\n",
    "               user= \"root\",\n",
    "               password = \"Ashish12@\")\n",
    "cursor = emp.cursor()\n",
    "cursor.execute('CREATE DATABASE student')"
   ]
  },
  {
   "cell_type": "code",
   "execution_count": null,
   "id": "ad92aeae",
   "metadata": {},
   "outputs": [],
   "source": [
    "#CREATE TABLE\n",
    "import mysql.connector as a\n",
    "emp = a.connect(host=\"localhost\",\n",
    "               user= \"root\",\n",
    "               password = \"Ashish12@\",\n",
    "               database =\"student\")\n",
    "cursor = emp.cursor()\n",
    "query = \"\"\"\n",
    "    CREATE TABLE student(\n",
    "    NAME TEXT,\n",
    "    ROLL_NO INT,\n",
    "    AGE INT,\n",
    "    CLASS VARCHAR(10),\n",
    "    MARKS FLOAT\n",
    "    )\n",
    "\"\"\"\n",
    "\n",
    "cursor.execute(query)\n",
    "emp.commit()\n"
   ]
  },
  {
   "cell_type": "code",
   "execution_count": null,
   "id": "f0b3931c",
   "metadata": {},
   "outputs": [],
   "source": [
    "#INSERT DATA IN TABLE\n",
    "\n",
    "\n",
    "import mysql.connector as a\n",
    "emp = a.connect(host=\"localhost\",\n",
    "               user= \"root\",\n",
    "               password = \"Ashish12@\",\n",
    "               database =\"student\")\n",
    "cursor = emp.cursor()\n",
    "\n",
    "name = input('ENTER YOUR NAME : ')\n",
    "roll_no = int(input(\"ENTER ROLL NO : \"))\n",
    "age = int(input(\"ENTER YOUR AGE : \"))\n",
    "class_name = input(\"ENTER CLASS NAME : \")\n",
    "marks = float(input(\"ENTER YOUR MARKS\"))\n",
    "\n",
    "query = f\"\"\"\n",
    "        INSERT INTO student(NAME,ROLL_NO,AGE,CLASS,MARKS) VALUES\n",
    "        (\"{name}\",{roll_no},{age},'{class_name}',{marks})\n",
    "        \"\"\"\n",
    "\n",
    "cursor.execute(query)\n",
    "emp.commit()\n",
    "\n",
    "cursor.execute(\"select * from student;\")\n",
    "for i in cursor:\n",
    "    print(i)\n"
   ]
  },
  {
   "cell_type": "code",
   "execution_count": 5,
   "id": "ec072f56",
   "metadata": {},
   "outputs": [
    {
     "name": "stdout",
     "output_type": "stream",
     "text": [
      "ENTER ROLL NUMBER : 1\n",
      "('ASHISH KUMAR VERMA', 1, 22, 'BCA', 75.5)\n"
     ]
    }
   ],
   "source": [
    "# READING \n",
    "\n",
    "import mysql.connector as a\n",
    "emp = a.connect(host=\"localhost\",\n",
    "               user= \"root\",\n",
    "               password = \"Ashish12@\",\n",
    "               database =\"student\")\n",
    "cursor = emp.cursor()\n",
    "\n",
    "roll_no= int(input(\"ENTER ROLL NUMBER : \"))\n",
    "\n",
    "query = f\"select * from student where ROLL_NO={roll_no};\"\n",
    "cursor.execute(query)\n",
    "for i in cursor:\n",
    "    print(i)\n"
   ]
  },
  {
   "cell_type": "code",
   "execution_count": 6,
   "id": "c36d221a",
   "metadata": {},
   "outputs": [
    {
     "name": "stdout",
     "output_type": "stream",
     "text": [
      "ENTER ROLL NUMBER : 3\n",
      "('AK',)\n"
     ]
    }
   ],
   "source": [
    "\n",
    "import mysql.connector as a\n",
    "emp = a.connect(host=\"localhost\",\n",
    "               user= \"root\",\n",
    "               password = \"Ashish12@\",\n",
    "               database =\"student\")\n",
    "cursor = emp.cursor()\n",
    "\n",
    "roll_no= int(input(\"ENTER ROLL NUMBER : \"))\n",
    "\n",
    "query = f\"select NAME from student where ROLL_NO={roll_no};\"\n",
    "cursor.execute(query)\n",
    "for i in cursor:\n",
    "    print(i)\n"
   ]
  },
  {
   "cell_type": "code",
   "execution_count": 11,
   "id": "ab5bcade",
   "metadata": {},
   "outputs": [
    {
     "name": "stdout",
     "output_type": "stream",
     "text": [
      "ENTER ROLL NUMBER : 1\n",
      "DELETE SUCCESSFULLY\n"
     ]
    }
   ],
   "source": [
    "# DELETE DATA\n",
    "import mysql.connector as a\n",
    "emp = a.connect(host=\"localhost\",\n",
    "               user= \"root\",\n",
    "               password = \"Ashish12@\",\n",
    "               database =\"student\")\n",
    "cursor = emp.cursor()\n",
    "\n",
    "roll_no= int(input(\"ENTER ROLL NUMBER : \"))\n",
    "\n",
    "query = f\"delete from student where ROLL_NO={roll_no}\"\n",
    "cursor.execute(query)\n",
    "emp.commit()\n",
    "print(\"DELETE SUCCESSFULLY\")\n",
    "\n"
   ]
  },
  {
   "cell_type": "code",
   "execution_count": 7,
   "id": "e4016c87",
   "metadata": {},
   "outputs": [
    {
     "name": "stdout",
     "output_type": "stream",
     "text": [
      "ENTER ROLL NUMBER : 1\n",
      "('ASHISH KUMAR VERMA', 1, 22, 'BCA', 75.5)\n"
     ]
    }
   ],
   "source": [
    "# READING \n",
    "\n",
    "import mysql.connector as a\n",
    "emp = a.connect(host=\"localhost\",\n",
    "               user= \"root\",\n",
    "               password = \"Ashish12@\",\n",
    "               database =\"student\")\n",
    "cursor = emp.cursor()\n",
    "\n",
    "roll_no= int(input(\"ENTER ROLL NUMBER : \"))\n",
    "\n",
    "query = f\"select * from student where ROLL_NO={roll_no};\"\n",
    "cursor.execute(query)\n",
    "for i in cursor:\n",
    "    print(i)\n"
   ]
  },
  {
   "cell_type": "code",
   "execution_count": null,
   "id": "6b10b4fb",
   "metadata": {},
   "outputs": [],
   "source": []
  }
 ],
 "metadata": {
  "kernelspec": {
   "display_name": "Python 3 (ipykernel)",
   "language": "python",
   "name": "python3"
  },
  "language_info": {
   "codemirror_mode": {
    "name": "ipython",
    "version": 3
   },
   "file_extension": ".py",
   "mimetype": "text/x-python",
   "name": "python",
   "nbconvert_exporter": "python",
   "pygments_lexer": "ipython3",
   "version": "3.9.13"
  }
 },
 "nbformat": 4,
 "nbformat_minor": 5
}
