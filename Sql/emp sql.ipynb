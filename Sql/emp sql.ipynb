{
 "cells": [
  {
   "cell_type": "markdown",
   "id": "d4768fd4",
   "metadata": {},
   "source": [
    "# create databse\n"
   ]
  },
  {
   "cell_type": "code",
   "execution_count": 1,
   "id": "38639f95",
   "metadata": {},
   "outputs": [
    {
     "ename": "DatabaseError",
     "evalue": "1007 (HY000): Can't create database 'emp'; database exists",
     "output_type": "error",
     "traceback": [
      "\u001b[1;31m---------------------------------------------------------------------------\u001b[0m",
      "\u001b[1;31mMySQLInterfaceError\u001b[0m                       Traceback (most recent call last)",
      "\u001b[1;32m~\\anaconda3\\lib\\site-packages\\mysql\\connector\\connection_cext.py\u001b[0m in \u001b[0;36mcmd_query\u001b[1;34m(self, query, raw, buffered, raw_as_string)\u001b[0m\n\u001b[0;32m    564\u001b[0m                 \u001b[0mquery\u001b[0m \u001b[1;33m=\u001b[0m \u001b[0mquery\u001b[0m\u001b[1;33m.\u001b[0m\u001b[0mencode\u001b[0m\u001b[1;33m(\u001b[0m\u001b[1;34m\"utf-8\"\u001b[0m\u001b[1;33m)\u001b[0m\u001b[1;33m\u001b[0m\u001b[1;33m\u001b[0m\u001b[0m\n\u001b[1;32m--> 565\u001b[1;33m             self._cmysql.query(\n\u001b[0m\u001b[0;32m    566\u001b[0m                 \u001b[0mquery\u001b[0m\u001b[1;33m,\u001b[0m\u001b[1;33m\u001b[0m\u001b[1;33m\u001b[0m\u001b[0m\n",
      "\u001b[1;31mMySQLInterfaceError\u001b[0m: Can't create database 'emp'; database exists",
      "\nThe above exception was the direct cause of the following exception:\n",
      "\u001b[1;31mDatabaseError\u001b[0m                             Traceback (most recent call last)",
      "\u001b[1;32m~\\AppData\\Local\\Temp\\ipykernel_9724\\2908345486.py\u001b[0m in \u001b[0;36m<module>\u001b[1;34m\u001b[0m\n\u001b[0;32m      5\u001b[0m                password = \"Ashish12@\")\n\u001b[0;32m      6\u001b[0m \u001b[0mcursor\u001b[0m \u001b[1;33m=\u001b[0m \u001b[0memp\u001b[0m\u001b[1;33m.\u001b[0m\u001b[0mcursor\u001b[0m\u001b[1;33m(\u001b[0m\u001b[1;33m)\u001b[0m\u001b[1;33m\u001b[0m\u001b[1;33m\u001b[0m\u001b[0m\n\u001b[1;32m----> 7\u001b[1;33m \u001b[0mcursor\u001b[0m\u001b[1;33m.\u001b[0m\u001b[0mexecute\u001b[0m\u001b[1;33m(\u001b[0m\u001b[1;34m'CREATE DATABASE emp;'\u001b[0m\u001b[1;33m)\u001b[0m\u001b[1;33m\u001b[0m\u001b[1;33m\u001b[0m\u001b[0m\n\u001b[0m",
      "\u001b[1;32m~\\anaconda3\\lib\\site-packages\\mysql\\connector\\cursor_cext.py\u001b[0m in \u001b[0;36mexecute\u001b[1;34m(self, operation, params, multi)\u001b[0m\n\u001b[0;32m    277\u001b[0m \u001b[1;33m\u001b[0m\u001b[0m\n\u001b[0;32m    278\u001b[0m         \u001b[1;32mtry\u001b[0m\u001b[1;33m:\u001b[0m\u001b[1;33m\u001b[0m\u001b[1;33m\u001b[0m\u001b[0m\n\u001b[1;32m--> 279\u001b[1;33m             result = self._cnx.cmd_query(\n\u001b[0m\u001b[0;32m    280\u001b[0m                 \u001b[0mstmt\u001b[0m\u001b[1;33m,\u001b[0m\u001b[1;33m\u001b[0m\u001b[1;33m\u001b[0m\u001b[0m\n\u001b[0;32m    281\u001b[0m                 \u001b[0mraw\u001b[0m\u001b[1;33m=\u001b[0m\u001b[0mself\u001b[0m\u001b[1;33m.\u001b[0m\u001b[0m_raw\u001b[0m\u001b[1;33m,\u001b[0m\u001b[1;33m\u001b[0m\u001b[1;33m\u001b[0m\u001b[0m\n",
      "\u001b[1;32m~\\anaconda3\\lib\\site-packages\\mysql\\connector\\connection_cext.py\u001b[0m in \u001b[0;36mcmd_query\u001b[1;34m(self, query, raw, buffered, raw_as_string)\u001b[0m\n\u001b[0;32m    571\u001b[0m             )\n\u001b[0;32m    572\u001b[0m         \u001b[1;32mexcept\u001b[0m \u001b[0mMySQLInterfaceError\u001b[0m \u001b[1;32mas\u001b[0m \u001b[0merr\u001b[0m\u001b[1;33m:\u001b[0m\u001b[1;33m\u001b[0m\u001b[1;33m\u001b[0m\u001b[0m\n\u001b[1;32m--> 573\u001b[1;33m             raise get_mysql_exception(\n\u001b[0m\u001b[0;32m    574\u001b[0m                 \u001b[0merr\u001b[0m\u001b[1;33m.\u001b[0m\u001b[0merrno\u001b[0m\u001b[1;33m,\u001b[0m \u001b[0mmsg\u001b[0m\u001b[1;33m=\u001b[0m\u001b[0merr\u001b[0m\u001b[1;33m.\u001b[0m\u001b[0mmsg\u001b[0m\u001b[1;33m,\u001b[0m \u001b[0msqlstate\u001b[0m\u001b[1;33m=\u001b[0m\u001b[0merr\u001b[0m\u001b[1;33m.\u001b[0m\u001b[0msqlstate\u001b[0m\u001b[1;33m\u001b[0m\u001b[1;33m\u001b[0m\u001b[0m\n\u001b[0;32m    575\u001b[0m             ) from err\n",
      "\u001b[1;31mDatabaseError\u001b[0m: 1007 (HY000): Can't create database 'emp'; database exists"
     ]
    }
   ],
   "source": [
    "#Create Databse\n",
    "import mysql.connector as a\n",
    "emp = a.connect(host=\"localhost\",\n",
    "               user= \"root\",\n",
    "               password = \"Ashish12@\")\n",
    "cursor = emp.cursor()\n",
    "cursor.execute('CREATE DATABASE emp;')"
   ]
  },
  {
   "cell_type": "code",
   "execution_count": null,
   "id": "548104de",
   "metadata": {},
   "outputs": [],
   "source": [
    "import mysql.connector as a\n",
    "emp = a.connect(host=\"localhost\",\n",
    "               user= \"root\",\n",
    "               password = \"Ashish12@\",\n",
    "               database= \"emp\")\n",
    "cursor = emp.cursor()\n",
    "query = \"\"\"\n",
    "    CREATE TABLE employee(\n",
    "    ID INT,\n",
    "    NAME TEXT,\n",
    "    AGE INT,\n",
    "    SAL INT,\n",
    "    POSITION VARCHAR(15)\n",
    "    )\"\"\"\n",
    "\n",
    "cursor.execute(query)\n",
    "\n",
    "\n"
   ]
  },
  {
   "cell_type": "code",
   "execution_count": 22,
   "id": "2aa9fa5d",
   "metadata": {},
   "outputs": [],
   "source": [
    "#INSERT DATA IN DATABASE\n",
    "\n",
    "import mysql.connector as a\n",
    "emp = a.connect(host=\"localhost\",\n",
    "               user= \"root\",\n",
    "               password = \"Ashish12@\",\n",
    "               database='emp')\n",
    "cursor = emp.cursor()\n",
    "\n",
    "query = \"\"\"\n",
    "    INSERT INTO employee(ID,NAME,AGE,SAL,POSITION) VALUES\n",
    "    (112,'ASHISH',22,'20000','CEO'),\n",
    "    (01,'RAM',32,'378273','MANAGER')\n",
    "    \n",
    "    \"\"\"\n",
    "cursor.execute(query)\n",
    "emp.commit()"
   ]
  },
  {
   "cell_type": "code",
   "execution_count": 9,
   "id": "835ca5bd",
   "metadata": {},
   "outputs": [
    {
     "name": "stdout",
     "output_type": "stream",
     "text": [
      "ID IS : 112   NAME IS:  ASHISH   AGE IS : 22   SAL IS : 20000   POSITION IS : CEO\n",
      "\n",
      "ID IS : 1   NAME IS:  RAM   AGE IS : 32   SAL IS : 378273   POSITION IS : MANAGER\n",
      "\n",
      "ID IS : 112   NAME IS:  ASHISH   AGE IS : 22   SAL IS : 20000   POSITION IS : CEO\n",
      "\n",
      "ID IS : 1   NAME IS:  RAM   AGE IS : 32   SAL IS : 378273   POSITION IS : MANAGER\n",
      "\n",
      "ID IS : 112   NAME IS:  ASHISH   AGE IS : 22   SAL IS : 20000   POSITION IS : CEO\n",
      "\n",
      "ID IS : 1   NAME IS:  RAM   AGE IS : 32   SAL IS : 378273   POSITION IS : MANAGER\n",
      "\n"
     ]
    }
   ],
   "source": [
    "# show data\n",
    "\n",
    "\n",
    "import mysql.connector as a\n",
    "emp = a.connect(host=\"localhost\",\n",
    "               user= \"root\",\n",
    "               password = \"Ashish12@\",\n",
    "               database='emp')\n",
    "cursor = emp.cursor()\n",
    "cursor.execute(\"SELECT * FROM employee;\")\n",
    "for i in cursor:\n",
    "    print(\"ID IS :\",i[0],end=\"   \")\n",
    "    print('NAME IS: ',i[1],end=\"   \")\n",
    "    print('AGE IS :',i[2],end=\"   \")\n",
    "    print('SAL IS :',i[3],end=\"   \")\n",
    "    print('POSITION IS :',i[4],end=\"\\n\\n\")\n"
   ]
  },
  {
   "cell_type": "code",
   "execution_count": null,
   "id": "010e7d77",
   "metadata": {},
   "outputs": [],
   "source": [
    " "
   ]
  },
  {
   "cell_type": "code",
   "execution_count": 23,
   "id": "dc5ad281",
   "metadata": {},
   "outputs": [
    {
     "name": "stdout",
     "output_type": "stream",
     "text": [
      "(1, 'RAM', 32, 378273, 'MANAGER')\n",
      "(112, 'ASHISH KUMAR', 22, 20000, 'CEO')\n",
      "(1, 'RAM', 32, 378273, 'MANAGER')\n",
      "(112, 'ASHISH KUMAR', 22, 20000, 'CEO')\n",
      "(1, 'RAM', 32, 378273, 'MANAGER')\n"
     ]
    }
   ],
   "source": [
    " # UPDATE DATA\n",
    "import mysql.connector as a\n",
    "emp = a.connect(host=\"localhost\",\n",
    "               user= \"root\",\n",
    "               password = \"Ashish12@\",\n",
    "               database='emp')\n",
    "cursor = emp.cursor()\n",
    "query = \"\"\"\n",
    "UPDATE employee\n",
    "SET NAME='ASHISH KUMAR'\n",
    "WHERE ID=112\n",
    "\"\"\"\n",
    "cursor.execute(query)\n",
    "emp.commit()\n",
    "\n",
    "cursor.execute(\"SELECT * FROM employee;\")\n",
    "\n",
    "for i in cursor:\n",
    "    print(i)"
   ]
  },
  {
   "cell_type": "code",
   "execution_count": 11,
   "id": "c440d38a",
   "metadata": {},
   "outputs": [
    {
     "name": "stdout",
     "output_type": "stream",
     "text": [
      "(112, 'ASHISH KUMAR', 22, 20000, 'CEO')\n",
      "(112, 'ASHISH KUMAR', 22, 20000, 'CEO')\n",
      "(112, 'ASHISH KUMAR', 22, 20000, 'CEO')\n"
     ]
    }
   ],
   "source": [
    "# DELETE DATA\n",
    "\n",
    "import mysql.connector as c\n",
    "emp = c.connect(host= \"localhost\",\n",
    "                user='root',\n",
    "                password='Ashish12@',\n",
    "               database='emp')\n",
    "cursor=emp.cursor()\n",
    "query = \"\"\"\n",
    "delete from employee\n",
    "where ID=1\n",
    "\"\"\"\n",
    "cursor.execute(query)\n",
    "emp.commit()\n",
    "cursor.execute(\"select * from employee;\")\n",
    "for i in cursor:\n",
    "    print(i)"
   ]
  },
  {
   "cell_type": "code",
   "execution_count": 19,
   "id": "ba415d94",
   "metadata": {},
   "outputs": [],
   "source": [
    "# import mysql.connector as a\n",
    "# emp = a.connect('Driver={SQL Server Native Client 11.0};',\n"
   ]
  },
  {
   "cell_type": "code",
   "execution_count": 20,
   "id": "61994a22",
   "metadata": {},
   "outputs": [
    {
     "name": "stdout",
     "output_type": "stream",
     "text": [
      "ENTER ID NUMBER : 112\n",
      "(1, 'RAM', 32, 378273, 'MANAGER')\n"
     ]
    }
   ],
   "source": [
    "# DELETE DATA\n",
    "\n",
    "import mysql.connector as c\n",
    "emp = c.connect(host= \"localhost\",\n",
    "                user='root',\n",
    "                password='Ashish12@',\n",
    "               database='emp')\n",
    "cursor=emp.cursor()\n",
    "\n",
    "id = int(input(\"ENTER ID NUMBER : \"))\n",
    "\n",
    "\n",
    "query = f\"\"\"\n",
    "delete from employee\n",
    "where ID={id}\n",
    "\"\"\"\n",
    "cursor.execute(query)\n",
    "emp.commit()\n",
    "cursor.execute(\"select * from employee;\")\n",
    "for i in cursor:\n",
    "    print(i)"
   ]
  },
  {
   "cell_type": "code",
   "execution_count": 28,
   "id": "fe6ed5d2",
   "metadata": {},
   "outputs": [
    {
     "name": "stdout",
     "output_type": "stream",
     "text": [
      "ENTER ID NUMBER : 112\n",
      "ENTER NEW NAME : SHYAM\n",
      "ENTER AGE : 43\n",
      "(1, 'RAM', 32, 378273, 'MANAGER')\n",
      "(112, 'SHYAM', 43, 20000, 'CEO')\n",
      "(1, 'RAM', 32, 378273, 'MANAGER')\n",
      "(112, 'SHYAM', 43, 20000, 'CEO')\n",
      "(1, 'RAM', 32, 378273, 'MANAGER')\n"
     ]
    }
   ],
   "source": [
    "\n",
    " # UPDATE DATA\n",
    "import mysql.connector as a\n",
    "emp = a.connect(host=\"localhost\",\n",
    "               user= \"root\",\n",
    "               password = \"Ashish12@\",\n",
    "               database='emp')\n",
    "cursor = emp.cursor()\n",
    "\n",
    "id_num = int(input(\"ENTER ID NUMBER : \")) \n",
    "name = input(\"ENTER NEW NAME : \")\n",
    "age = int(input(\"ENTER AGE : \"))\n",
    "\n",
    "query = f\"\"\"\n",
    "UPDATE employee\n",
    "SET NAME='{name}',AGE={age},\n",
    "WHERE ID={id_num}\n",
    "\"\"\"\n",
    "cursor.execute(query)\n",
    "emp.commit()\n",
    "\n",
    "cursor.execute(\"SELECT * FROM employee;\")\n",
    "\n",
    "for i in cursor:\n",
    "    print(i)"
   ]
  },
  {
   "cell_type": "code",
   "execution_count": null,
   "id": "88f8ab6f",
   "metadata": {},
   "outputs": [],
   "source": []
  }
 ],
 "metadata": {
  "kernelspec": {
   "display_name": "Python 3 (ipykernel)",
   "language": "python",
   "name": "python3"
  },
  "language_info": {
   "codemirror_mode": {
    "name": "ipython",
    "version": 3
   },
   "file_extension": ".py",
   "mimetype": "text/x-python",
   "name": "python",
   "nbconvert_exporter": "python",
   "pygments_lexer": "ipython3",
   "version": "3.9.13"
  }
 },
 "nbformat": 4,
 "nbformat_minor": 5
}
