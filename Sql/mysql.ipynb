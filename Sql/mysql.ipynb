{
 "cells": [
  {
   "cell_type": "markdown",
   "id": "7fe0afd9",
   "metadata": {},
   "source": [
    "#  Create Database"
   ]
  },
  {
   "cell_type": "code",
   "execution_count": 1,
   "id": "ba3ef30b",
   "metadata": {},
   "outputs": [
    {
     "name": "stdout",
     "output_type": "stream",
     "text": [
      "Database is Connected \n"
     ]
    }
   ],
   "source": [
    "# Check database is connected \n",
    "\n",
    "import mysql.connector as a\n",
    "\n",
    "my_db= a.connect(host= \"localhost\",\n",
    "                        user= 'root',\n",
    "                              passwd= 'Ashish12@')\n",
    "cursor = my_db.cursor()\n",
    "if my_db.is_connected():\n",
    "    print('Database is Connected ')\n"
   ]
  },
  {
   "cell_type": "code",
   "execution_count": 2,
   "id": "98bdd1ec",
   "metadata": {},
   "outputs": [
    {
     "ename": "DatabaseError",
     "evalue": "1007 (HY000): Can't create database 'new_db'; database exists",
     "output_type": "error",
     "traceback": [
      "\u001b[1;31m---------------------------------------------------------------------------\u001b[0m",
      "\u001b[1;31mMySQLInterfaceError\u001b[0m                       Traceback (most recent call last)",
      "\u001b[1;32m~\\anaconda3\\lib\\site-packages\\mysql\\connector\\connection_cext.py\u001b[0m in \u001b[0;36mcmd_query\u001b[1;34m(self, query, raw, buffered, raw_as_string)\u001b[0m\n\u001b[0;32m    564\u001b[0m                 \u001b[0mquery\u001b[0m \u001b[1;33m=\u001b[0m \u001b[0mquery\u001b[0m\u001b[1;33m.\u001b[0m\u001b[0mencode\u001b[0m\u001b[1;33m(\u001b[0m\u001b[1;34m\"utf-8\"\u001b[0m\u001b[1;33m)\u001b[0m\u001b[1;33m\u001b[0m\u001b[1;33m\u001b[0m\u001b[0m\n\u001b[1;32m--> 565\u001b[1;33m             self._cmysql.query(\n\u001b[0m\u001b[0;32m    566\u001b[0m                 \u001b[0mquery\u001b[0m\u001b[1;33m,\u001b[0m\u001b[1;33m\u001b[0m\u001b[1;33m\u001b[0m\u001b[0m\n",
      "\u001b[1;31mMySQLInterfaceError\u001b[0m: Can't create database 'new_db'; database exists",
      "\nThe above exception was the direct cause of the following exception:\n",
      "\u001b[1;31mDatabaseError\u001b[0m                             Traceback (most recent call last)",
      "\u001b[1;32m~\\AppData\\Local\\Temp\\ipykernel_11748\\2340181048.py\u001b[0m in \u001b[0;36m<module>\u001b[1;34m\u001b[0m\n\u001b[0;32m      8\u001b[0m \u001b[0mcursor\u001b[0m \u001b[1;33m=\u001b[0m \u001b[0mmy_db\u001b[0m\u001b[1;33m.\u001b[0m\u001b[0mcursor\u001b[0m\u001b[1;33m(\u001b[0m\u001b[1;33m)\u001b[0m\u001b[1;33m\u001b[0m\u001b[1;33m\u001b[0m\u001b[0m\n\u001b[0;32m      9\u001b[0m \u001b[1;33m\u001b[0m\u001b[0m\n\u001b[1;32m---> 10\u001b[1;33m \u001b[0mcursor\u001b[0m\u001b[1;33m.\u001b[0m\u001b[0mexecute\u001b[0m\u001b[1;33m(\u001b[0m\u001b[1;34m'CREATE DATABASE new_db;'\u001b[0m\u001b[1;33m)\u001b[0m\u001b[1;33m\u001b[0m\u001b[1;33m\u001b[0m\u001b[0m\n\u001b[0m\u001b[0;32m     11\u001b[0m \u001b[1;33m\u001b[0m\u001b[0m\n",
      "\u001b[1;32m~\\anaconda3\\lib\\site-packages\\mysql\\connector\\cursor_cext.py\u001b[0m in \u001b[0;36mexecute\u001b[1;34m(self, operation, params, multi)\u001b[0m\n\u001b[0;32m    277\u001b[0m \u001b[1;33m\u001b[0m\u001b[0m\n\u001b[0;32m    278\u001b[0m         \u001b[1;32mtry\u001b[0m\u001b[1;33m:\u001b[0m\u001b[1;33m\u001b[0m\u001b[1;33m\u001b[0m\u001b[0m\n\u001b[1;32m--> 279\u001b[1;33m             result = self._cnx.cmd_query(\n\u001b[0m\u001b[0;32m    280\u001b[0m                 \u001b[0mstmt\u001b[0m\u001b[1;33m,\u001b[0m\u001b[1;33m\u001b[0m\u001b[1;33m\u001b[0m\u001b[0m\n\u001b[0;32m    281\u001b[0m                 \u001b[0mraw\u001b[0m\u001b[1;33m=\u001b[0m\u001b[0mself\u001b[0m\u001b[1;33m.\u001b[0m\u001b[0m_raw\u001b[0m\u001b[1;33m,\u001b[0m\u001b[1;33m\u001b[0m\u001b[1;33m\u001b[0m\u001b[0m\n",
      "\u001b[1;32m~\\anaconda3\\lib\\site-packages\\mysql\\connector\\connection_cext.py\u001b[0m in \u001b[0;36mcmd_query\u001b[1;34m(self, query, raw, buffered, raw_as_string)\u001b[0m\n\u001b[0;32m    571\u001b[0m             )\n\u001b[0;32m    572\u001b[0m         \u001b[1;32mexcept\u001b[0m \u001b[0mMySQLInterfaceError\u001b[0m \u001b[1;32mas\u001b[0m \u001b[0merr\u001b[0m\u001b[1;33m:\u001b[0m\u001b[1;33m\u001b[0m\u001b[1;33m\u001b[0m\u001b[0m\n\u001b[1;32m--> 573\u001b[1;33m             raise get_mysql_exception(\n\u001b[0m\u001b[0;32m    574\u001b[0m                 \u001b[0merr\u001b[0m\u001b[1;33m.\u001b[0m\u001b[0merrno\u001b[0m\u001b[1;33m,\u001b[0m \u001b[0mmsg\u001b[0m\u001b[1;33m=\u001b[0m\u001b[0merr\u001b[0m\u001b[1;33m.\u001b[0m\u001b[0mmsg\u001b[0m\u001b[1;33m,\u001b[0m \u001b[0msqlstate\u001b[0m\u001b[1;33m=\u001b[0m\u001b[0merr\u001b[0m\u001b[1;33m.\u001b[0m\u001b[0msqlstate\u001b[0m\u001b[1;33m\u001b[0m\u001b[1;33m\u001b[0m\u001b[0m\n\u001b[0;32m    575\u001b[0m             ) from err\n",
      "\u001b[1;31mDatabaseError\u001b[0m: 1007 (HY000): Can't create database 'new_db'; database exists"
     ]
    }
   ],
   "source": [
    "# Creating new database \n",
    "\n",
    "import mysql.connector as a\n",
    "\n",
    "my_db= a.connect(host= \"localhost\",\n",
    "                        user= 'root',\n",
    "                              passwd= 'Ashish12@')\n",
    "cursor = my_db.cursor()\n",
    "\n",
    "cursor.execute('CREATE DATABASE new_db;')\n",
    "\n"
   ]
  },
  {
   "cell_type": "code",
   "execution_count": null,
   "id": "c5b88394",
   "metadata": {},
   "outputs": [],
   "source": [
    "# Show databases\n",
    "\n",
    "import mysql.connector as a\n",
    "\n",
    "my_db= a.connect(host= \"localhost\",\n",
    "                        user= 'root',\n",
    "                              passwd= 'Ashish12@')\n",
    "cursor = my_db.cursor()\n",
    "cursor.execute('SHOW DATABASES;')\n",
    "for i in cursor:\n",
    "    print(\"My Databases is : \",i)"
   ]
  },
  {
   "cell_type": "code",
   "execution_count": null,
   "id": "672489c0",
   "metadata": {},
   "outputs": [],
   "source": [
    "# Create Table\n",
    "\n",
    "import mysql.connector as a\n",
    "\n",
    "my_db= a.connect(host= \"localhost\",\n",
    "                 user= 'root',\n",
    "                 passwd= 'Ashish12@',\n",
    "                 database= \"new_db\")\n",
    "cursor = my_db.cursor()\n",
    "query = \"\"\"\n",
    "    CREATE TABLE student2(\n",
    "    name VARCHAR(50),\n",
    "    roll_no INT,\n",
    "    gender VARCHAR(10),\n",
    "    addr VARCHAR(100),\n",
    "    date DATE\n",
    "    )\n",
    "    \"\"\"\n",
    "\n",
    "cursor.execute(query)\n",
    "\n",
    "\n"
   ]
  },
  {
   "cell_type": "code",
   "execution_count": null,
   "id": "754dc053",
   "metadata": {},
   "outputs": [],
   "source": [
    "# Create Table\n",
    "\n",
    "import mysql.connector as a\n",
    "\n",
    "my_db= a.connect(host= \"localhost\",\n",
    "                 user= 'root',\n",
    "                 passwd= 'Ashish12@',\n",
    "                 database= \"new_db\")\n",
    "cursor = my_db.cursor()\n",
    "\n",
    "cursor.execute(\"SHOW TABLES;\")\n",
    "for i in cursor:\n",
    "    print(i)"
   ]
  },
  {
   "cell_type": "code",
   "execution_count": 4,
   "id": "b7647beb",
   "metadata": {},
   "outputs": [
    {
     "name": "stdout",
     "output_type": "stream",
     "text": [
      "LIST OF MY TABLE :  ('ASHISH', 11, ',male', 'noida', datetime.date(2022, 2, 2))\n",
      "LIST OF MY TABLE :  ('shyam', 22, 'male', 'delhi', datetime.date(2019, 1, 21))\n",
      "LIST OF MY TABLE :  ('ASHISH', 11, 'male', 'noida', datetime.date(2022, 2, 2))\n",
      "LIST OF MY TABLE :  ('shyam', 22, 'male', 'delhi', datetime.date(2019, 1, 21))\n",
      "LIST OF MY TABLE :  ('ASHISH', 11, 'male', 'noida', datetime.date(2022, 2, 2))\n",
      "LIST OF MY TABLE :  ('shyam', 22, 'male', 'delhi', datetime.date(2019, 1, 21))\n",
      "LIST OF MY TABLE :  ('ASHISH', 11, 'male', 'noida', datetime.date(2022, 2, 2))\n",
      "LIST OF MY TABLE :  ('shyam', 22, 'male', 'delhi', datetime.date(2019, 1, 21))\n",
      "LIST OF MY TABLE :  ('ASHISH', 11, 'male', 'noida', datetime.date(2022, 2, 2))\n",
      "LIST OF MY TABLE :  ('shyam', 22, 'male', 'delhi', datetime.date(2019, 1, 21))\n",
      "LIST OF MY TABLE :  ('ram', 11, 'male', 'noida', datetime.date(2022, 2, 2))\n",
      "LIST OF MY TABLE :  ('shyam', 22, 'male', 'delhi', datetime.date(2019, 1, 21))\n"
     ]
    }
   ],
   "source": [
    "# INSERT VALUES IN TABLES\n",
    "\n",
    "import mysql.connector as a\n",
    "\n",
    "my_db= a.connect(host= \"localhost\",\n",
    "                 user= 'root',\n",
    "                 passwd= 'Ashish12@',\n",
    "                 database= \"new_db\")\n",
    "cursor = my_db.cursor()\n",
    "query = \"\"\"\n",
    "INSERT INTO student2(name,roll_no,gender,addr,date) VALUES\n",
    "\n",
    "('ram',11,'male','noida','2022/02/02'),\n",
    "('shyam',22,'male','delhi','2019/01/21')\n",
    "\n",
    "\"\"\"\n",
    "cursor.execute(query)\n",
    "\n",
    "my_db.commit()\n",
    "cursor.execute('SELECT * FROM student2;')\n",
    "for row in cursor.fetchall():\n",
    "    print(\"LIST OF MY TABLE : \",row)\n",
    "\n",
    "my_db.close()\n"
   ]
  },
  {
   "cell_type": "code",
   "execution_count": 3,
   "id": "da435aa3",
   "metadata": {},
   "outputs": [
    {
     "name": "stdout",
     "output_type": "stream",
     "text": [
      "('ASHISH', 11, ',male', 'noida', datetime.date(2022, 2, 2))\n",
      "('shyam', 22, 'male', 'delhi', datetime.date(2019, 1, 21))\n",
      "('ASHISH', 11, 'male', 'noida', datetime.date(2022, 2, 2))\n",
      "('shyam', 22, 'male', 'delhi', datetime.date(2019, 1, 21))\n",
      "('ASHISH', 11, 'male', 'noida', datetime.date(2022, 2, 2))\n",
      "('shyam', 22, 'male', 'delhi', datetime.date(2019, 1, 21))\n",
      "('ASHISH', 11, 'male', 'noida', datetime.date(2022, 2, 2))\n",
      "('shyam', 22, 'male', 'delhi', datetime.date(2019, 1, 21))\n",
      "('ASHISH', 11, 'male', 'noida', datetime.date(2022, 2, 2))\n",
      "('shyam', 22, 'male', 'delhi', datetime.date(2019, 1, 21))\n"
     ]
    }
   ],
   "source": [
    "# UPDATE DATA\n",
    "\n",
    "\n",
    "import mysql.connector as a\n",
    "\n",
    "my_db= a.connect(host= \"localhost\",\n",
    "                 user= 'root',\n",
    "                 passwd= 'Ashish12@',\n",
    "                 database= \"new_db\")\n",
    "cursor = my_db.cursor()\n",
    "query = \"\"\"\n",
    "UPDATE student2 \n",
    "SET name='ASHISH'\n",
    "WHERE roll_no=11\n",
    "\"\"\"\n",
    "cursor.execute(query)\n",
    "my_db.commit()\n",
    "\n",
    "cursor.execute('SELECT * FROM student2;')\n",
    "for i in cursor:\n",
    "    print(i)\n",
    "\n"
   ]
  },
  {
   "cell_type": "code",
   "execution_count": null,
   "id": "0741c2a4",
   "metadata": {},
   "outputs": [],
   "source": []
  }
 ],
 "metadata": {
  "kernelspec": {
   "display_name": "Python 3 (ipykernel)",
   "language": "python",
   "name": "python3"
  },
  "language_info": {
   "codemirror_mode": {
    "name": "ipython",
    "version": 3
   },
   "file_extension": ".py",
   "mimetype": "text/x-python",
   "name": "python",
   "nbconvert_exporter": "python",
   "pygments_lexer": "ipython3",
   "version": "3.9.13"
  }
 },
 "nbformat": 4,
 "nbformat_minor": 5
}
